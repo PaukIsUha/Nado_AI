{
 "cells": [
  {
   "cell_type": "markdown",
   "metadata": {},
   "source": [
    "Notebook for inference model"
   ]
  },
  {
   "cell_type": "markdown",
   "metadata": {},
   "source": [
    "В данном окружении необходим датасет и веса модели"
   ]
  },
  {
   "cell_type": "code",
   "execution_count": 1,
   "metadata": {},
   "outputs": [
    {
     "name": "stdout",
     "output_type": "stream",
     "text": [
      "Requirement already satisfied: accelerate==1.1.1 in ./.venv/lib/python3.10/site-packages (from -r requirements.txt (line 1)) (1.1.1)\n",
      "Requirement already satisfied: aiohappyeyeballs==2.4.3 in ./.venv/lib/python3.10/site-packages (from -r requirements.txt (line 2)) (2.4.3)\n",
      "Requirement already satisfied: aiohttp==3.10.10 in ./.venv/lib/python3.10/site-packages (from -r requirements.txt (line 3)) (3.10.10)\n",
      "Requirement already satisfied: aiosignal==1.3.1 in ./.venv/lib/python3.10/site-packages (from -r requirements.txt (line 4)) (1.3.1)\n",
      "Requirement already satisfied: asttokens==2.4.1 in ./.venv/lib/python3.10/site-packages (from -r requirements.txt (line 5)) (2.4.1)\n",
      "Requirement already satisfied: async-timeout==4.0.3 in ./.venv/lib/python3.10/site-packages (from -r requirements.txt (line 6)) (4.0.3)\n",
      "Requirement already satisfied: attrs==24.2.0 in ./.venv/lib/python3.10/site-packages (from -r requirements.txt (line 7)) (24.2.0)\n",
      "Requirement already satisfied: certifi==2024.8.30 in ./.venv/lib/python3.10/site-packages (from -r requirements.txt (line 8)) (2024.8.30)\n",
      "Requirement already satisfied: charset-normalizer==3.4.0 in ./.venv/lib/python3.10/site-packages (from -r requirements.txt (line 9)) (3.4.0)\n",
      "Requirement already satisfied: comm==0.2.2 in ./.venv/lib/python3.10/site-packages (from -r requirements.txt (line 10)) (0.2.2)\n",
      "Requirement already satisfied: contourpy==1.3.0 in ./.venv/lib/python3.10/site-packages (from -r requirements.txt (line 11)) (1.3.0)\n",
      "Requirement already satisfied: cycler==0.12.1 in ./.venv/lib/python3.10/site-packages (from -r requirements.txt (line 12)) (0.12.1)\n",
      "Requirement already satisfied: datasets==3.1.0 in ./.venv/lib/python3.10/site-packages (from -r requirements.txt (line 13)) (3.1.0)\n",
      "Requirement already satisfied: debugpy==1.8.8 in ./.venv/lib/python3.10/site-packages (from -r requirements.txt (line 14)) (1.8.8)\n",
      "Requirement already satisfied: decorator==5.1.1 in ./.venv/lib/python3.10/site-packages (from -r requirements.txt (line 15)) (5.1.1)\n",
      "Requirement already satisfied: dill==0.3.8 in ./.venv/lib/python3.10/site-packages (from -r requirements.txt (line 16)) (0.3.8)\n",
      "Requirement already satisfied: et_xmlfile==2.0.0 in ./.venv/lib/python3.10/site-packages (from -r requirements.txt (line 17)) (2.0.0)\n",
      "Requirement already satisfied: evaluate==0.4.3 in ./.venv/lib/python3.10/site-packages (from -r requirements.txt (line 18)) (0.4.3)\n",
      "Requirement already satisfied: exceptiongroup==1.2.2 in ./.venv/lib/python3.10/site-packages (from -r requirements.txt (line 19)) (1.2.2)\n",
      "Requirement already satisfied: executing==2.1.0 in ./.venv/lib/python3.10/site-packages (from -r requirements.txt (line 20)) (2.1.0)\n",
      "Requirement already satisfied: filelock==3.16.1 in ./.venv/lib/python3.10/site-packages (from -r requirements.txt (line 21)) (3.16.1)\n",
      "Requirement already satisfied: fonttools==4.54.1 in ./.venv/lib/python3.10/site-packages (from -r requirements.txt (line 22)) (4.54.1)\n",
      "Requirement already satisfied: frozenlist==1.5.0 in ./.venv/lib/python3.10/site-packages (from -r requirements.txt (line 23)) (1.5.0)\n",
      "Requirement already satisfied: fsspec==2024.9.0 in ./.venv/lib/python3.10/site-packages (from -r requirements.txt (line 24)) (2024.9.0)\n",
      "Requirement already satisfied: huggingface-hub==0.26.2 in ./.venv/lib/python3.10/site-packages (from -r requirements.txt (line 25)) (0.26.2)\n",
      "Requirement already satisfied: idna==3.10 in ./.venv/lib/python3.10/site-packages (from -r requirements.txt (line 26)) (3.10)\n",
      "Requirement already satisfied: ipykernel==6.29.5 in ./.venv/lib/python3.10/site-packages (from -r requirements.txt (line 27)) (6.29.5)\n",
      "Requirement already satisfied: ipython==8.29.0 in ./.venv/lib/python3.10/site-packages (from -r requirements.txt (line 28)) (8.29.0)\n",
      "Requirement already satisfied: jedi==0.19.1 in ./.venv/lib/python3.10/site-packages (from -r requirements.txt (line 29)) (0.19.1)\n",
      "Requirement already satisfied: Jinja2==3.1.4 in ./.venv/lib/python3.10/site-packages (from -r requirements.txt (line 30)) (3.1.4)\n",
      "Requirement already satisfied: joblib==1.4.2 in ./.venv/lib/python3.10/site-packages (from -r requirements.txt (line 31)) (1.4.2)\n",
      "Requirement already satisfied: jupyter_client==8.6.3 in ./.venv/lib/python3.10/site-packages (from -r requirements.txt (line 32)) (8.6.3)\n",
      "Requirement already satisfied: jupyter_core==5.7.2 in ./.venv/lib/python3.10/site-packages (from -r requirements.txt (line 33)) (5.7.2)\n",
      "Requirement already satisfied: kiwisolver==1.4.7 in ./.venv/lib/python3.10/site-packages (from -r requirements.txt (line 34)) (1.4.7)\n",
      "Requirement already satisfied: lxml==5.3.0 in ./.venv/lib/python3.10/site-packages (from -r requirements.txt (line 35)) (5.3.0)\n",
      "Requirement already satisfied: MarkupSafe==3.0.2 in ./.venv/lib/python3.10/site-packages (from -r requirements.txt (line 36)) (3.0.2)\n",
      "Requirement already satisfied: matplotlib==3.9.2 in ./.venv/lib/python3.10/site-packages (from -r requirements.txt (line 37)) (3.9.2)\n",
      "Requirement already satisfied: matplotlib-inline==0.1.7 in ./.venv/lib/python3.10/site-packages (from -r requirements.txt (line 38)) (0.1.7)\n",
      "Requirement already satisfied: mpmath==1.3.0 in ./.venv/lib/python3.10/site-packages (from -r requirements.txt (line 39)) (1.3.0)\n",
      "Requirement already satisfied: multidict==6.1.0 in ./.venv/lib/python3.10/site-packages (from -r requirements.txt (line 40)) (6.1.0)\n",
      "Requirement already satisfied: multiprocess==0.70.16 in ./.venv/lib/python3.10/site-packages (from -r requirements.txt (line 41)) (0.70.16)\n",
      "Requirement already satisfied: nest-asyncio==1.6.0 in ./.venv/lib/python3.10/site-packages (from -r requirements.txt (line 42)) (1.6.0)\n",
      "Requirement already satisfied: networkx==3.4.2 in ./.venv/lib/python3.10/site-packages (from -r requirements.txt (line 43)) (3.4.2)\n",
      "Requirement already satisfied: numpy==2.1.3 in ./.venv/lib/python3.10/site-packages (from -r requirements.txt (line 44)) (2.1.3)\n",
      "Requirement already satisfied: nvidia-cublas-cu12==12.4.5.8 in ./.venv/lib/python3.10/site-packages (from -r requirements.txt (line 45)) (12.4.5.8)\n",
      "Requirement already satisfied: nvidia-cuda-cupti-cu12==12.4.127 in ./.venv/lib/python3.10/site-packages (from -r requirements.txt (line 46)) (12.4.127)\n",
      "Requirement already satisfied: nvidia-cuda-nvrtc-cu12==12.4.127 in ./.venv/lib/python3.10/site-packages (from -r requirements.txt (line 47)) (12.4.127)\n",
      "Requirement already satisfied: nvidia-cuda-runtime-cu12==12.4.127 in ./.venv/lib/python3.10/site-packages (from -r requirements.txt (line 48)) (12.4.127)\n",
      "Requirement already satisfied: nvidia-cudnn-cu12==9.1.0.70 in ./.venv/lib/python3.10/site-packages (from -r requirements.txt (line 49)) (9.1.0.70)\n",
      "Requirement already satisfied: nvidia-cufft-cu12==11.2.1.3 in ./.venv/lib/python3.10/site-packages (from -r requirements.txt (line 50)) (11.2.1.3)\n",
      "Requirement already satisfied: nvidia-curand-cu12==10.3.5.147 in ./.venv/lib/python3.10/site-packages (from -r requirements.txt (line 51)) (10.3.5.147)\n",
      "Requirement already satisfied: nvidia-cusolver-cu12==11.6.1.9 in ./.venv/lib/python3.10/site-packages (from -r requirements.txt (line 52)) (11.6.1.9)\n",
      "Requirement already satisfied: nvidia-cusparse-cu12==12.3.1.170 in ./.venv/lib/python3.10/site-packages (from -r requirements.txt (line 53)) (12.3.1.170)\n",
      "Requirement already satisfied: nvidia-nccl-cu12==2.21.5 in ./.venv/lib/python3.10/site-packages (from -r requirements.txt (line 54)) (2.21.5)\n",
      "Requirement already satisfied: nvidia-nvjitlink-cu12==12.4.127 in ./.venv/lib/python3.10/site-packages (from -r requirements.txt (line 55)) (12.4.127)\n",
      "Requirement already satisfied: nvidia-nvtx-cu12==12.4.127 in ./.venv/lib/python3.10/site-packages (from -r requirements.txt (line 56)) (12.4.127)\n",
      "Requirement already satisfied: openpyxl==3.1.5 in ./.venv/lib/python3.10/site-packages (from -r requirements.txt (line 57)) (3.1.5)\n",
      "Requirement already satisfied: packaging==24.2 in ./.venv/lib/python3.10/site-packages (from -r requirements.txt (line 58)) (24.2)\n",
      "Requirement already satisfied: pandas==2.2.3 in ./.venv/lib/python3.10/site-packages (from -r requirements.txt (line 59)) (2.2.3)\n",
      "Requirement already satisfied: parso==0.8.4 in ./.venv/lib/python3.10/site-packages (from -r requirements.txt (line 60)) (0.8.4)\n",
      "Requirement already satisfied: peft==0.13.2 in ./.venv/lib/python3.10/site-packages (from -r requirements.txt (line 61)) (0.13.2)\n",
      "Requirement already satisfied: pexpect==4.9.0 in ./.venv/lib/python3.10/site-packages (from -r requirements.txt (line 62)) (4.9.0)\n",
      "Requirement already satisfied: pillow==11.0.0 in ./.venv/lib/python3.10/site-packages (from -r requirements.txt (line 63)) (11.0.0)\n",
      "Requirement already satisfied: platformdirs==4.3.6 in ./.venv/lib/python3.10/site-packages (from -r requirements.txt (line 64)) (4.3.6)\n",
      "Requirement already satisfied: prompt_toolkit==3.0.48 in ./.venv/lib/python3.10/site-packages (from -r requirements.txt (line 65)) (3.0.48)\n",
      "Requirement already satisfied: propcache==0.2.0 in ./.venv/lib/python3.10/site-packages (from -r requirements.txt (line 66)) (0.2.0)\n",
      "Requirement already satisfied: protobuf==5.28.3 in ./.venv/lib/python3.10/site-packages (from -r requirements.txt (line 67)) (5.28.3)\n",
      "Requirement already satisfied: psutil==6.1.0 in ./.venv/lib/python3.10/site-packages (from -r requirements.txt (line 68)) (6.1.0)\n",
      "Requirement already satisfied: ptyprocess==0.7.0 in ./.venv/lib/python3.10/site-packages (from -r requirements.txt (line 69)) (0.7.0)\n",
      "Requirement already satisfied: pure_eval==0.2.3 in ./.venv/lib/python3.10/site-packages (from -r requirements.txt (line 70)) (0.2.3)\n",
      "Requirement already satisfied: pyarrow==18.0.0 in ./.venv/lib/python3.10/site-packages (from -r requirements.txt (line 71)) (18.0.0)\n",
      "Requirement already satisfied: Pygments==2.18.0 in ./.venv/lib/python3.10/site-packages (from -r requirements.txt (line 72)) (2.18.0)\n",
      "Requirement already satisfied: pyparsing==3.2.0 in ./.venv/lib/python3.10/site-packages (from -r requirements.txt (line 73)) (3.2.0)\n",
      "Requirement already satisfied: python-dateutil==2.9.0.post0 in ./.venv/lib/python3.10/site-packages (from -r requirements.txt (line 74)) (2.9.0.post0)\n",
      "Requirement already satisfied: python-docx==1.1.2 in ./.venv/lib/python3.10/site-packages (from -r requirements.txt (line 75)) (1.1.2)\n",
      "Requirement already satisfied: pytz==2024.2 in ./.venv/lib/python3.10/site-packages (from -r requirements.txt (line 76)) (2024.2)\n",
      "Requirement already satisfied: PyYAML==6.0.2 in ./.venv/lib/python3.10/site-packages (from -r requirements.txt (line 77)) (6.0.2)\n",
      "Requirement already satisfied: pyzmq==26.2.0 in ./.venv/lib/python3.10/site-packages (from -r requirements.txt (line 78)) (26.2.0)\n",
      "Requirement already satisfied: regex==2024.11.6 in ./.venv/lib/python3.10/site-packages (from -r requirements.txt (line 79)) (2024.11.6)\n",
      "Requirement already satisfied: requests==2.32.3 in ./.venv/lib/python3.10/site-packages (from -r requirements.txt (line 80)) (2.32.3)\n",
      "Requirement already satisfied: safetensors==0.4.5 in ./.venv/lib/python3.10/site-packages (from -r requirements.txt (line 81)) (0.4.5)\n",
      "Requirement already satisfied: scikit-learn==1.5.2 in ./.venv/lib/python3.10/site-packages (from -r requirements.txt (line 82)) (1.5.2)\n",
      "Requirement already satisfied: scipy==1.14.1 in ./.venv/lib/python3.10/site-packages (from -r requirements.txt (line 83)) (1.14.1)\n",
      "Requirement already satisfied: sentence-transformers==3.2.1 in ./.venv/lib/python3.10/site-packages (from -r requirements.txt (line 84)) (3.2.1)\n",
      "Requirement already satisfied: sentencepiece==0.2.0 in ./.venv/lib/python3.10/site-packages (from -r requirements.txt (line 85)) (0.2.0)\n",
      "Requirement already satisfied: six==1.16.0 in ./.venv/lib/python3.10/site-packages (from -r requirements.txt (line 86)) (1.16.0)\n",
      "Requirement already satisfied: stack-data==0.6.3 in ./.venv/lib/python3.10/site-packages (from -r requirements.txt (line 87)) (0.6.3)\n",
      "Requirement already satisfied: sympy==1.13.1 in ./.venv/lib/python3.10/site-packages (from -r requirements.txt (line 88)) (1.13.1)\n",
      "Requirement already satisfied: threadpoolctl==3.5.0 in ./.venv/lib/python3.10/site-packages (from -r requirements.txt (line 89)) (3.5.0)\n",
      "Requirement already satisfied: tokenizers==0.20.3 in ./.venv/lib/python3.10/site-packages (from -r requirements.txt (line 90)) (0.20.3)\n",
      "Requirement already satisfied: torch==2.5.1 in ./.venv/lib/python3.10/site-packages (from -r requirements.txt (line 91)) (2.5.1)\n",
      "Requirement already satisfied: tornado==6.4.1 in ./.venv/lib/python3.10/site-packages (from -r requirements.txt (line 92)) (6.4.1)\n",
      "Requirement already satisfied: tqdm==4.67.0 in ./.venv/lib/python3.10/site-packages (from -r requirements.txt (line 93)) (4.67.0)\n",
      "Requirement already satisfied: traitlets==5.14.3 in ./.venv/lib/python3.10/site-packages (from -r requirements.txt (line 94)) (5.14.3)\n",
      "Requirement already satisfied: transformers==4.46.2 in ./.venv/lib/python3.10/site-packages (from -r requirements.txt (line 95)) (4.46.2)\n",
      "Requirement already satisfied: triton==3.1.0 in ./.venv/lib/python3.10/site-packages (from -r requirements.txt (line 96)) (3.1.0)\n",
      "Requirement already satisfied: typing_extensions==4.12.2 in ./.venv/lib/python3.10/site-packages (from -r requirements.txt (line 97)) (4.12.2)\n",
      "Requirement already satisfied: tzdata==2024.2 in ./.venv/lib/python3.10/site-packages (from -r requirements.txt (line 98)) (2024.2)\n",
      "Requirement already satisfied: urllib3==2.2.3 in ./.venv/lib/python3.10/site-packages (from -r requirements.txt (line 99)) (2.2.3)\n",
      "Requirement already satisfied: wcwidth==0.2.13 in ./.venv/lib/python3.10/site-packages (from -r requirements.txt (line 100)) (0.2.13)\n",
      "Requirement already satisfied: xxhash==3.5.0 in ./.venv/lib/python3.10/site-packages (from -r requirements.txt (line 101)) (3.5.0)\n",
      "Requirement already satisfied: yarl==1.17.1 in ./.venv/lib/python3.10/site-packages (from -r requirements.txt (line 102)) (1.17.1)\n"
     ]
    }
   ],
   "source": [
    "!pip install -r requirements.txt"
   ]
  },
  {
   "cell_type": "markdown",
   "metadata": {},
   "source": [
    "Read dataset\n",
    "---\n",
    "\n",
    "---"
   ]
  },
  {
   "cell_type": "code",
   "execution_count": 1,
   "metadata": {},
   "outputs": [
    {
     "name": "stderr",
     "output_type": "stream",
     "text": [
      "/home/user1/.venv/lib/python3.10/site-packages/tqdm/auto.py:21: TqdmWarning: IProgress not found. Please update jupyter and ipywidgets. See https://ipywidgets.readthedocs.io/en/stable/user_install.html\n",
      "  from .autonotebook import tqdm as notebook_tqdm\n"
     ]
    }
   ],
   "source": [
    "import pandas as pd\n",
    "from docx import Document\n",
    "from transformers import AutoTokenizer, AutoModelForSeq2SeqLM\n",
    "import torch\n",
    "from transformers import LongformerTokenizer, LongformerForSequenceClassification\n",
    "from sklearn.preprocessing import LabelEncoder"
   ]
  },
  {
   "cell_type": "code",
   "execution_count": 3,
   "metadata": {},
   "outputs": [],
   "source": [
    "PATH_TO_EXCEL = \"test data\"\n",
    "FOLDER_DOCX = \"test data\""
   ]
  },
  {
   "cell_type": "code",
   "execution_count": 107,
   "metadata": {},
   "outputs": [
    {
     "data": {
      "text/html": [
       "<div>\n",
       "<style scoped>\n",
       "    .dataframe tbody tr th:only-of-type {\n",
       "        vertical-align: middle;\n",
       "    }\n",
       "\n",
       "    .dataframe tbody tr th {\n",
       "        vertical-align: top;\n",
       "    }\n",
       "\n",
       "    .dataframe thead th {\n",
       "        text-align: right;\n",
       "    }\n",
       "</style>\n",
       "<table border=\"1\" class=\"dataframe\">\n",
       "  <thead>\n",
       "    <tr style=\"text-align: right;\">\n",
       "      <th></th>\n",
       "      <th>Number</th>\n",
       "      <th>SSTS_Text</th>\n",
       "      <th>HMI_Text</th>\n",
       "      <th>Name</th>\n",
       "    </tr>\n",
       "  </thead>\n",
       "  <tbody>\n",
       "    <tr>\n",
       "      <th>0</th>\n",
       "      <td>29448</td>\n",
       "      <td>Description: \\nUse-Case Title: \"Configure heat...</td>\n",
       "      <td>users can set the battery keep warm mode on IV...</td>\n",
       "      <td>Configure heat preservation</td>\n",
       "    </tr>\n",
       "    <tr>\n",
       "      <th>1</th>\n",
       "      <td>30364</td>\n",
       "      <td>Description: \\nUse-Case Title: \"Stop charging ...</td>\n",
       "      <td>Functional Description\\nUsers can set the maxi...</td>\n",
       "      <td>Stop charging when the cut-off SOC is reached</td>\n",
       "    </tr>\n",
       "    <tr>\n",
       "      <th>2</th>\n",
       "      <td>30365</td>\n",
       "      <td>Description: \\n\\nUse-Case Title: \"Start the Ch...</td>\n",
       "      <td>Users can choose the starting charging or stop...</td>\n",
       "      <td>Start the Charging Process via Soft Switch</td>\n",
       "    </tr>\n",
       "    <tr>\n",
       "      <th>3</th>\n",
       "      <td>30370</td>\n",
       "      <td>Description: \\nUse Case: \"Stop the discharge p...</td>\n",
       "      <td>The user can select the V2L function on and of...</td>\n",
       "      <td>Stop the discharging process (Updated)</td>\n",
       "    </tr>\n",
       "    <tr>\n",
       "      <th>4</th>\n",
       "      <td>65831</td>\n",
       "      <td>Preconditions:\\nThe IVI is on in_2 \\nThe vehic...</td>\n",
       "      <td>Functional Description:\\nUsers can dial throug...</td>\n",
       "      <td>Driver initiate a call through SWP</td>\n",
       "    </tr>\n",
       "    <tr>\n",
       "      <th>5</th>\n",
       "      <td>65832</td>\n",
       "      <td>Preconditions:\\nThe IVI is on in_2 \\nThe vehic...</td>\n",
       "      <td>Functional Description:\\nUsers can dial throug...</td>\n",
       "      <td>Driver initiate a call through SWP</td>\n",
       "    </tr>\n",
       "    <tr>\n",
       "      <th>6</th>\n",
       "      <td>65833</td>\n",
       "      <td>Preconditions:\\nThe IVI is on in_2 \\nThe drive...</td>\n",
       "      <td>Functional Description:\\nUsers can dial throug...</td>\n",
       "      <td>Driver initiate a call through SWP</td>\n",
       "    </tr>\n",
       "    <tr>\n",
       "      <th>7</th>\n",
       "      <td>86921</td>\n",
       "      <td>Preconditions:\\nThe vehicle is in the Drive St...</td>\n",
       "      <td>Functional Description\\n\\n</td>\n",
       "      <td>Emergency Service Communication (ERA-Glonass)</td>\n",
       "    </tr>\n",
       "    <tr>\n",
       "      <th>8</th>\n",
       "      <td>88001</td>\n",
       "      <td>Preconditions\\nEntertainment system is ready. ...</td>\n",
       "      <td>Functional Description:\\nWhen a mobile phone c...</td>\n",
       "      <td>Receiving Call Notifications</td>\n",
       "    </tr>\n",
       "    <tr>\n",
       "      <th>9</th>\n",
       "      <td>88002</td>\n",
       "      <td>Preconditions\\nEntertainment system is ready. ...</td>\n",
       "      <td>Functional Description:\\nWhen a mobile phone c...</td>\n",
       "      <td>Receiving Call Notifications</td>\n",
       "    </tr>\n",
       "    <tr>\n",
       "      <th>10</th>\n",
       "      <td>114671</td>\n",
       "      <td>\\nGoal:\\nEnable the Owner to quickly revoke ac...</td>\n",
       "      <td>This functional description is fully compliant...</td>\n",
       "      <td>Revoke access to the vehicle from a driver or ...</td>\n",
       "    </tr>\n",
       "    <tr>\n",
       "      <th>11</th>\n",
       "      <td>259571</td>\n",
       "      <td>Description: \\nPreconditions:\\nUser is playing...</td>\n",
       "      <td>Functional Description\\nWhen playing online ra...</td>\n",
       "      <td>Mute/unmute the FM Radio playback</td>\n",
       "    </tr>\n",
       "    <tr>\n",
       "      <th>12</th>\n",
       "      <td>259572</td>\n",
       "      <td>Description: \\nPreconditions:\\nUser is playing...</td>\n",
       "      <td>Functional Description\\nWhen playing online ra...</td>\n",
       "      <td>Mute/unmute the FM Radio playback</td>\n",
       "    </tr>\n",
       "    <tr>\n",
       "      <th>13</th>\n",
       "      <td>261611</td>\n",
       "      <td>Description: \\nPreconditions:\\nUser has select...</td>\n",
       "      <td>Functional Description\\nUsers can set local mu...</td>\n",
       "      <td>FM Radio Stations switching</td>\n",
       "    </tr>\n",
       "    <tr>\n",
       "      <th>14</th>\n",
       "      <td>315231</td>\n",
       "      <td>Description: \\nUse Case: Adding Internet Radio...</td>\n",
       "      <td>Functional Description\\nSupport for searching ...</td>\n",
       "      <td>Adding Internet Radio to Favorites List</td>\n",
       "    </tr>\n",
       "  </tbody>\n",
       "</table>\n",
       "</div>"
      ],
      "text/plain": [
       "    Number                                          SSTS_Text  \\\n",
       "0    29448  Description: \\nUse-Case Title: \"Configure heat...   \n",
       "1    30364  Description: \\nUse-Case Title: \"Stop charging ...   \n",
       "2    30365  Description: \\n\\nUse-Case Title: \"Start the Ch...   \n",
       "3    30370  Description: \\nUse Case: \"Stop the discharge p...   \n",
       "4    65831  Preconditions:\\nThe IVI is on in_2 \\nThe vehic...   \n",
       "5    65832  Preconditions:\\nThe IVI is on in_2 \\nThe vehic...   \n",
       "6    65833  Preconditions:\\nThe IVI is on in_2 \\nThe drive...   \n",
       "7    86921  Preconditions:\\nThe vehicle is in the Drive St...   \n",
       "8    88001  Preconditions\\nEntertainment system is ready. ...   \n",
       "9    88002  Preconditions\\nEntertainment system is ready. ...   \n",
       "10  114671  \\nGoal:\\nEnable the Owner to quickly revoke ac...   \n",
       "11  259571  Description: \\nPreconditions:\\nUser is playing...   \n",
       "12  259572  Description: \\nPreconditions:\\nUser is playing...   \n",
       "13  261611  Description: \\nPreconditions:\\nUser has select...   \n",
       "14  315231  Description: \\nUse Case: Adding Internet Radio...   \n",
       "\n",
       "                                             HMI_Text  \\\n",
       "0   users can set the battery keep warm mode on IV...   \n",
       "1   Functional Description\\nUsers can set the maxi...   \n",
       "2   Users can choose the starting charging or stop...   \n",
       "3   The user can select the V2L function on and of...   \n",
       "4   Functional Description:\\nUsers can dial throug...   \n",
       "5   Functional Description:\\nUsers can dial throug...   \n",
       "6   Functional Description:\\nUsers can dial throug...   \n",
       "7                          Functional Description\\n\\n   \n",
       "8   Functional Description:\\nWhen a mobile phone c...   \n",
       "9   Functional Description:\\nWhen a mobile phone c...   \n",
       "10  This functional description is fully compliant...   \n",
       "11  Functional Description\\nWhen playing online ra...   \n",
       "12  Functional Description\\nWhen playing online ra...   \n",
       "13  Functional Description\\nUsers can set local mu...   \n",
       "14  Functional Description\\nSupport for searching ...   \n",
       "\n",
       "                                                 Name  \n",
       "0                         Configure heat preservation  \n",
       "1       Stop charging when the cut-off SOC is reached  \n",
       "2          Start the Charging Process via Soft Switch  \n",
       "3              Stop the discharging process (Updated)  \n",
       "4                  Driver initiate a call through SWP  \n",
       "5                  Driver initiate a call through SWP  \n",
       "6                  Driver initiate a call through SWP  \n",
       "7       Emergency Service Communication (ERA-Glonass)  \n",
       "8                        Receiving Call Notifications  \n",
       "9                        Receiving Call Notifications  \n",
       "10  Revoke access to the vehicle from a driver or ...  \n",
       "11                  Mute/unmute the FM Radio playback  \n",
       "12                  Mute/unmute the FM Radio playback  \n",
       "13                        FM Radio Stations switching  \n",
       "14            Adding Internet Radio to Favorites List  "
      ]
     },
     "execution_count": 107,
     "metadata": {},
     "output_type": "execute_result"
    }
   ],
   "source": [
    "df = pd.DataFrame({\"Number\": [ 29448, 30364, 30365, 30370, 65831, 65832, 65833,  86921,\n",
    "        88001, 88002,  114671, 259571, 259572, 261611, 315231]})\n",
    "\n",
    "def read_docx(filename):\n",
    "    try:\n",
    "        doc = Document(filename)\n",
    "        text = \"\\n\".join([para.text for para in doc.paragraphs])\n",
    "        text = text.split(\"\\n\")\n",
    "        text = text[1:]\n",
    "        return \"\\n\".join(text)\n",
    "    except:\n",
    "        return \"NAN_CODE\"\n",
    "    \n",
    "def get_name(filename):\n",
    "    try:\n",
    "        doc = Document(filename)\n",
    "        text = \"\\n\".join([para.text for para in doc.paragraphs])\n",
    "        text = text.split(\"\\n\")\n",
    "        words = text[0].split()\n",
    "        words = words[1:]\n",
    "        return \" \".join(words)\n",
    "    except:\n",
    "        return \"NAN_CODE\"\n",
    "\n",
    "df['SSTS_Text'] = df['Number'].apply(lambda x: read_docx(f\"./{FOLDER_DOCX}/HMI/UC-{x}.docx\"))\n",
    "df['HMI_Text'] = df['Number'].apply(lambda x: read_docx(f\"./{FOLDER_DOCX}/SSTS/SSTS-{x}.docx\"))\n",
    "df['Name'] = df['Number'].apply(lambda x: get_name(f\"./{FOLDER_DOCX}/HMI/UC-{x}.docx\"))\n",
    "df"
   ]
  },
  {
   "cell_type": "code",
   "execution_count": 108,
   "metadata": {},
   "outputs": [],
   "source": [
    "df_nans = df[(df[\"SSTS_Text\"] == \"NAN_CODE\") | (df[\"HMI_Text\"] == \"NAN_CODE\")]\n",
    "df = df[(df[\"SSTS_Text\"] != \"NAN_CODE\") & (df[\"HMI_Text\"] != \"NAN_CODE\")]"
   ]
  },
  {
   "cell_type": "code",
   "execution_count": 109,
   "metadata": {},
   "outputs": [
    {
     "data": {
      "text/plain": [
       "device(type='cuda')"
      ]
     },
     "execution_count": 109,
     "metadata": {},
     "output_type": "execute_result"
    }
   ],
   "source": [
    "device = torch.device(\"cuda\" if torch.cuda.is_available() else \"cpu\")\n",
    "device"
   ]
  },
  {
   "cell_type": "markdown",
   "metadata": {},
   "source": [
    "Predict Difference\n",
    "---\n",
    "\n",
    "---"
   ]
  },
  {
   "cell_type": "code",
   "execution_count": 110,
   "metadata": {},
   "outputs": [],
   "source": [
    "model_path = './trained_model_diff2'\n",
    "\n",
    "tokenizer = AutoTokenizer.from_pretrained(model_path)\n",
    "model = AutoModelForSeq2SeqLM.from_pretrained(model_path).to(device)"
   ]
  },
  {
   "cell_type": "code",
   "execution_count": 111,
   "metadata": {},
   "outputs": [],
   "source": [
    "def generate_difference_description(ssts_text, hmi_text):\n",
    "    input_text = f\"SSTS: {ssts_text} </s> HMI: {hmi_text}\"\n",
    "    inputs = tokenizer.encode(input_text, return_tensors='pt', truncation=True, max_length=1024).to(device)\n",
    "    \n",
    "    outputs = model.generate(\n",
    "        inputs,\n",
    "        max_length=150,\n",
    "        num_beams=5,\n",
    "        early_stopping=True,\n",
    "        no_repeat_ngram_size=2\n",
    "    )\n",
    "    \n",
    "    description = tokenizer.decode(outputs[0], skip_special_tokens=True)\n",
    "    \n",
    "    return description"
   ]
  },
  {
   "cell_type": "code",
   "execution_count": 112,
   "metadata": {},
   "outputs": [],
   "source": [
    "differences = []\n",
    "\n",
    "for _, row in df.iterrows():\n",
    "    predicted_difference = generate_difference_description(row[\"SSTS_Text\"], row[\"HMI_Text\"])\n",
    "    differences.append(predicted_difference)"
   ]
  },
  {
   "cell_type": "code",
   "execution_count": 113,
   "metadata": {},
   "outputs": [],
   "source": [
    "df['Differences'] = differences"
   ]
  },
  {
   "cell_type": "markdown",
   "metadata": {},
   "source": [
    "Predict Description\n",
    "---\n",
    "\n",
    "---"
   ]
  },
  {
   "cell_type": "code",
   "execution_count": 114,
   "metadata": {},
   "outputs": [],
   "source": [
    "model_path = './trained_model_desc2'\n",
    "\n",
    "tokenizer = AutoTokenizer.from_pretrained(model_path)\n",
    "model = AutoModelForSeq2SeqLM.from_pretrained(model_path).to(device)"
   ]
  },
  {
   "cell_type": "code",
   "execution_count": 115,
   "metadata": {},
   "outputs": [],
   "source": [
    "descriptions = []\n",
    "\n",
    "for _, row in df.iterrows():\n",
    "    predicted_difference = generate_difference_description(row[\"SSTS_Text\"], row[\"HMI_Text\"])\n",
    "    descriptions.append(predicted_difference)"
   ]
  },
  {
   "cell_type": "code",
   "execution_count": 116,
   "metadata": {},
   "outputs": [],
   "source": [
    "df['Description'] = descriptions"
   ]
  },
  {
   "cell_type": "markdown",
   "metadata": {},
   "source": [
    "Predict Level\n",
    "---\n",
    "\n",
    "---"
   ]
  },
  {
   "cell_type": "code",
   "execution_count": 117,
   "metadata": {},
   "outputs": [
    {
     "data": {
      "text/plain": [
       "{np.str_('FC'): np.int64(0),\n",
       " np.str_('LC'): np.int64(1),\n",
       " np.str_('NC'): np.int64(2),\n",
       " np.str_('PC'): np.int64(3)}"
      ]
     },
     "execution_count": 117,
     "metadata": {},
     "output_type": "execute_result"
    }
   ],
   "source": [
    "labels = ['FC', 'LC', 'NC', 'PC']\n",
    "\n",
    "le = LabelEncoder()\n",
    "le.fit(labels)\n",
    "\n",
    "label_mapping = dict(zip(le.classes_, le.transform(le.classes_)))\n",
    "label_mapping"
   ]
  },
  {
   "cell_type": "code",
   "execution_count": 118,
   "metadata": {},
   "outputs": [],
   "source": [
    "model_path = './trained_classifier_compl2'\n",
    "\n",
    "tokenizer = LongformerTokenizer.from_pretrained(model_path)\n",
    "model = LongformerForSequenceClassification.from_pretrained(model_path).to(device)"
   ]
  },
  {
   "cell_type": "code",
   "execution_count": 119,
   "metadata": {},
   "outputs": [],
   "source": [
    "def predict_compliance_level(ssts_text, hmi_text):\n",
    "    input_text = f\"SSTS: {ssts_text} [SEP] HMI: {hmi_text}\"\n",
    "    inputs = tokenizer(input_text, return_tensors='pt', truncation=True, padding='max_length', max_length=1024).to(device)\n",
    "    with torch.no_grad():\n",
    "        outputs = model(**inputs)\n",
    "        logits = outputs.logits\n",
    "        predicted_class_id = logits.argmax().item()\n",
    "        \n",
    "        predicted_label = le.inverse_transform([predicted_class_id])[0]\n",
    "        return predicted_label"
   ]
  },
  {
   "cell_type": "code",
   "execution_count": 120,
   "metadata": {},
   "outputs": [],
   "source": [
    "compl = []\n",
    "\n",
    "for _, row in df.iterrows():\n",
    "    compl.append(predict_compliance_level(row[\"SSTS_Text\"], row[\"HMI_Text\"]))"
   ]
  },
  {
   "cell_type": "code",
   "execution_count": 121,
   "metadata": {},
   "outputs": [],
   "source": [
    "df[\"Complience Level\"] = compl"
   ]
  },
  {
   "cell_type": "markdown",
   "metadata": {},
   "source": [
    "Apply nans and union\n",
    "---\n",
    "\n",
    "---"
   ]
  },
  {
   "cell_type": "code",
   "execution_count": 90,
   "metadata": {},
   "outputs": [
    {
     "name": "stderr",
     "output_type": "stream",
     "text": [
      "/tmp/ipykernel_94904/3769556938.py:1: SettingWithCopyWarning: \n",
      "A value is trying to be set on a copy of a slice from a DataFrame.\n",
      "Try using .loc[row_indexer,col_indexer] = value instead\n",
      "\n",
      "See the caveats in the documentation: https://pandas.pydata.org/pandas-docs/stable/user_guide/indexing.html#returning-a-view-versus-a-copy\n",
      "  df_nans[\"Differences\"] = \"ssts hasn't info about this\"\n",
      "/tmp/ipykernel_94904/3769556938.py:2: SettingWithCopyWarning: \n",
      "A value is trying to be set on a copy of a slice from a DataFrame.\n",
      "Try using .loc[row_indexer,col_indexer] = value instead\n",
      "\n",
      "See the caveats in the documentation: https://pandas.pydata.org/pandas-docs/stable/user_guide/indexing.html#returning-a-view-versus-a-copy\n",
      "  df_nans[\"Description\"] = \"-\"\n",
      "/tmp/ipykernel_94904/3769556938.py:3: SettingWithCopyWarning: \n",
      "A value is trying to be set on a copy of a slice from a DataFrame.\n",
      "Try using .loc[row_indexer,col_indexer] = value instead\n",
      "\n",
      "See the caveats in the documentation: https://pandas.pydata.org/pandas-docs/stable/user_guide/indexing.html#returning-a-view-versus-a-copy\n",
      "  df_nans[\"Complience Level\"] = \"NA\"\n"
     ]
    }
   ],
   "source": [
    "df_nans[\"Differences\"] = \"ssts hasn't info about this\"\n",
    "df_nans[\"Description\"] = \"-\"\n",
    "df_nans[\"Complience Level\"] = \"NA\""
   ]
  },
  {
   "cell_type": "code",
   "execution_count": 103,
   "metadata": {},
   "outputs": [],
   "source": [
    "df = pd.concat([df, df_nans])"
   ]
  },
  {
   "cell_type": "code",
   "execution_count": 122,
   "metadata": {},
   "outputs": [],
   "source": [
    "df = df.sort_index()"
   ]
  },
  {
   "cell_type": "code",
   "execution_count": 123,
   "metadata": {},
   "outputs": [],
   "source": [
    "df = df[[\"Number\", \"Name\", \"Differences\", \"Description\", \"Complience Level\"]]"
   ]
  },
  {
   "cell_type": "code",
   "execution_count": 124,
   "metadata": {},
   "outputs": [
    {
     "data": {
      "text/html": [
       "<div>\n",
       "<style scoped>\n",
       "    .dataframe tbody tr th:only-of-type {\n",
       "        vertical-align: middle;\n",
       "    }\n",
       "\n",
       "    .dataframe tbody tr th {\n",
       "        vertical-align: top;\n",
       "    }\n",
       "\n",
       "    .dataframe thead th {\n",
       "        text-align: right;\n",
       "    }\n",
       "</style>\n",
       "<table border=\"1\" class=\"dataframe\">\n",
       "  <thead>\n",
       "    <tr style=\"text-align: right;\">\n",
       "      <th></th>\n",
       "      <th>Number</th>\n",
       "      <th>Name</th>\n",
       "      <th>Differences</th>\n",
       "      <th>Description</th>\n",
       "      <th>Complience Level</th>\n",
       "    </tr>\n",
       "  </thead>\n",
       "  <tbody>\n",
       "    <tr>\n",
       "      <th>0</th>\n",
       "      <td>29448</td>\n",
       "      <td>Configure heat preservation</td>\n",
       "      <td>SSTS misses the following content: The battery...</td>\n",
       "      <td>HMX describes: \"The power mode of the vehicle ...</td>\n",
       "      <td>LC</td>\n",
       "    </tr>\n",
       "    <tr>\n",
       "      <th>1</th>\n",
       "      <td>30364</td>\n",
       "      <td>Stop charging when the cut-off SOC is reached</td>\n",
       "      <td>UC misses the following content: The system no...</td>\n",
       "      <td>The user can operate the display; he/she selec...</td>\n",
       "      <td>LC</td>\n",
       "    </tr>\n",
       "    <tr>\n",
       "      <th>2</th>\n",
       "      <td>30365</td>\n",
       "      <td>Start the Charging Process via Soft Switch</td>\n",
       "      <td>SSTS misses the following content: The vehicle...</td>\n",
       "      <td>The user presses the \"Start Charging\" soft swi...</td>\n",
       "      <td>LC</td>\n",
       "    </tr>\n",
       "    <tr>\n",
       "      <th>3</th>\n",
       "      <td>30370</td>\n",
       "      <td>Stop the discharging process (Updated)</td>\n",
       "      <td>SSTS describes that \"the vehicle discharge sys...</td>\n",
       "      <td>The user can select the V2L function on and of...</td>\n",
       "      <td>NC</td>\n",
       "    </tr>\n",
       "    <tr>\n",
       "      <th>4</th>\n",
       "      <td>65831</td>\n",
       "      <td>Driver initiate a call through SWP</td>\n",
       "      <td>SSTS describes that only when the vehicle is s...</td>\n",
       "      <td>Users can dial through IVI and make phone call...</td>\n",
       "      <td>NC</td>\n",
       "    </tr>\n",
       "    <tr>\n",
       "      <th>5</th>\n",
       "      <td>65832</td>\n",
       "      <td>Driver initiate a call through SWP</td>\n",
       "      <td>SSTS describes that users can dial through SWP...</td>\n",
       "      <td>Users can dial through IVI and make phone call...</td>\n",
       "      <td>NC</td>\n",
       "    </tr>\n",
       "    <tr>\n",
       "      <th>6</th>\n",
       "      <td>65833</td>\n",
       "      <td>Driver initiate a call through SWP</td>\n",
       "      <td>SSTS describes that users can dial through SWP...</td>\n",
       "      <td>The driver navigates to the 'Calls' option on ...</td>\n",
       "      <td>LC</td>\n",
       "    </tr>\n",
       "    <tr>\n",
       "      <th>7</th>\n",
       "      <td>86921</td>\n",
       "      <td>Emergency Service Communication (ERA-Glonass)</td>\n",
       "      <td>SSTS misses the folowing content: The vehicle ...</td>\n",
       "      <td>The safety audio system automatically mutes or...</td>\n",
       "      <td>NC</td>\n",
       "    </tr>\n",
       "    <tr>\n",
       "      <th>8</th>\n",
       "      <td>88001</td>\n",
       "      <td>Receiving Call Notifications</td>\n",
       "      <td>SSTS misses the following content: The output ...</td>\n",
       "      <td>HMX description: The driver can accept or reje...</td>\n",
       "      <td>LC</td>\n",
       "    </tr>\n",
       "    <tr>\n",
       "      <th>9</th>\n",
       "      <td>88002</td>\n",
       "      <td>Receiving Call Notifications</td>\n",
       "      <td>SSTS misses the following content: The output ...</td>\n",
       "      <td>HMX description: The driver can accept or reje...</td>\n",
       "      <td>LC</td>\n",
       "    </tr>\n",
       "    <tr>\n",
       "      <th>10</th>\n",
       "      <td>114671</td>\n",
       "      <td>Revoke access to the vehicle from a driver or ...</td>\n",
       "      <td>SSTS allows the owner to quickly revoke access...</td>\n",
       "      <td>The driver opens the ATOM application on his i...</td>\n",
       "      <td>FC</td>\n",
       "    </tr>\n",
       "    <tr>\n",
       "      <th>11</th>\n",
       "      <td>259571</td>\n",
       "      <td>Mute/unmute the FM Radio playback</td>\n",
       "      <td>There is no soft button icon and description i...</td>\n",
       "      <td>The user clicks on soft button Mute/Unmute via...</td>\n",
       "      <td>LC</td>\n",
       "    </tr>\n",
       "    <tr>\n",
       "      <th>12</th>\n",
       "      <td>259572</td>\n",
       "      <td>Mute/unmute the FM Radio playback</td>\n",
       "      <td>There is no soft button icon and description i...</td>\n",
       "      <td>The user clicks on soft button Mute/Unmute via...</td>\n",
       "      <td>NC</td>\n",
       "    </tr>\n",
       "    <tr>\n",
       "      <th>13</th>\n",
       "      <td>261611</td>\n",
       "      <td>FM Radio Stations switching</td>\n",
       "      <td>UC misses the following content: Users can set...</td>\n",
       "      <td>Users can set local music as favorites and vie...</td>\n",
       "      <td>LC</td>\n",
       "    </tr>\n",
       "    <tr>\n",
       "      <th>14</th>\n",
       "      <td>315231</td>\n",
       "      <td>Adding Internet Radio to Favorites List</td>\n",
       "      <td>UC misses the folowimg content: Only when the ...</td>\n",
       "      <td>Support for searching for radio stations throu...</td>\n",
       "      <td>LC</td>\n",
       "    </tr>\n",
       "  </tbody>\n",
       "</table>\n",
       "</div>"
      ],
      "text/plain": [
       "    Number                                               Name  \\\n",
       "0    29448                        Configure heat preservation   \n",
       "1    30364      Stop charging when the cut-off SOC is reached   \n",
       "2    30365         Start the Charging Process via Soft Switch   \n",
       "3    30370             Stop the discharging process (Updated)   \n",
       "4    65831                 Driver initiate a call through SWP   \n",
       "5    65832                 Driver initiate a call through SWP   \n",
       "6    65833                 Driver initiate a call through SWP   \n",
       "7    86921      Emergency Service Communication (ERA-Glonass)   \n",
       "8    88001                       Receiving Call Notifications   \n",
       "9    88002                       Receiving Call Notifications   \n",
       "10  114671  Revoke access to the vehicle from a driver or ...   \n",
       "11  259571                  Mute/unmute the FM Radio playback   \n",
       "12  259572                  Mute/unmute the FM Radio playback   \n",
       "13  261611                        FM Radio Stations switching   \n",
       "14  315231            Adding Internet Radio to Favorites List   \n",
       "\n",
       "                                          Differences  \\\n",
       "0   SSTS misses the following content: The battery...   \n",
       "1   UC misses the following content: The system no...   \n",
       "2   SSTS misses the following content: The vehicle...   \n",
       "3   SSTS describes that \"the vehicle discharge sys...   \n",
       "4   SSTS describes that only when the vehicle is s...   \n",
       "5   SSTS describes that users can dial through SWP...   \n",
       "6   SSTS describes that users can dial through SWP...   \n",
       "7   SSTS misses the folowing content: The vehicle ...   \n",
       "8   SSTS misses the following content: The output ...   \n",
       "9   SSTS misses the following content: The output ...   \n",
       "10  SSTS allows the owner to quickly revoke access...   \n",
       "11  There is no soft button icon and description i...   \n",
       "12  There is no soft button icon and description i...   \n",
       "13  UC misses the following content: Users can set...   \n",
       "14  UC misses the folowimg content: Only when the ...   \n",
       "\n",
       "                                          Description Complience Level  \n",
       "0   HMX describes: \"The power mode of the vehicle ...               LC  \n",
       "1   The user can operate the display; he/she selec...               LC  \n",
       "2   The user presses the \"Start Charging\" soft swi...               LC  \n",
       "3   The user can select the V2L function on and of...               NC  \n",
       "4   Users can dial through IVI and make phone call...               NC  \n",
       "5   Users can dial through IVI and make phone call...               NC  \n",
       "6   The driver navigates to the 'Calls' option on ...               LC  \n",
       "7   The safety audio system automatically mutes or...               NC  \n",
       "8   HMX description: The driver can accept or reje...               LC  \n",
       "9   HMX description: The driver can accept or reje...               LC  \n",
       "10  The driver opens the ATOM application on his i...               FC  \n",
       "11  The user clicks on soft button Mute/Unmute via...               LC  \n",
       "12  The user clicks on soft button Mute/Unmute via...               NC  \n",
       "13  Users can set local music as favorites and vie...               LC  \n",
       "14  Support for searching for radio stations throu...               LC  "
      ]
     },
     "execution_count": 124,
     "metadata": {},
     "output_type": "execute_result"
    }
   ],
   "source": [
    "df"
   ]
  },
  {
   "cell_type": "markdown",
   "metadata": {},
   "source": [
    "Save to (.csv)\n",
    "---\n",
    "\n",
    "---"
   ]
  },
  {
   "cell_type": "code",
   "execution_count": null,
   "metadata": {},
   "outputs": [],
   "source": [
    "df.to_csv(\"submission.csv\", index=False)"
   ]
  },
  {
   "cell_type": "code",
   "execution_count": null,
   "metadata": {},
   "outputs": [],
   "source": []
  }
 ],
 "metadata": {
  "kernelspec": {
   "display_name": ".venv",
   "language": "python",
   "name": "python3"
  },
  "language_info": {
   "codemirror_mode": {
    "name": "ipython",
    "version": 3
   },
   "file_extension": ".py",
   "mimetype": "text/x-python",
   "name": "python",
   "nbconvert_exporter": "python",
   "pygments_lexer": "ipython3",
   "version": "3.10.12"
  }
 },
 "nbformat": 4,
 "nbformat_minor": 2
}
